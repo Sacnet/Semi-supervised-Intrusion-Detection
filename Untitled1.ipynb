{
 "cells": [
  {
   "cell_type": "code",
   "execution_count": 1,
   "metadata": {},
   "outputs": [
    {
     "name": "stderr",
     "output_type": "stream",
     "text": [
      "C:\\Users\\SACNET\\Anaconda3\\lib\\site-packages\\ipykernel_launcher.py:9: FutureWarning: convert_objects is deprecated.  Use the data-type specific converters pd.to_datetime, pd.to_timedelta and pd.to_numeric.\n",
      "  if __name__ == '__main__':\n"
     ]
    },
    {
     "name": "stdout",
     "output_type": "stream",
     "text": [
      "   0   1   2    3     4   5   6   7   8   9  ...   31    32    33    34    35  \\\n",
      "0   0   0   6  491     0   0   0   0   0   0 ...   25  0.17  0.03  0.17  0.00   \n",
      "1   0   1   6  146     0   0   0   0   0   0 ...    1  0.00  0.60  0.88  0.00   \n",
      "2   0   0  10    0     0   0   0   0   0   0 ...   26  0.10  0.05  0.00  0.00   \n",
      "3   0   0   6  232  8153   0   0   0   0   0 ...  255  1.00  0.00  0.03  0.04   \n",
      "4   0   0   6  199   420   0   0   0   0   0 ...  255  1.00  0.00  0.00  0.00   \n",
      "\n",
      "     36    37    38    39  40  \n",
      "0  0.00  0.00  0.05  0.00   2  \n",
      "1  0.00  0.00  0.00  0.00   2  \n",
      "2  1.00  1.00  0.00  0.00  10  \n",
      "3  0.03  0.01  0.00  0.01   2  \n",
      "4  0.00  0.00  0.00  0.00   2  \n",
      "\n",
      "[5 rows x 41 columns]\n"
     ]
    }
   ],
   "source": [
    "from matplotlib import pyplot\n",
    "\n",
    "import numpy as np\n",
    "import pandas as pd\n",
    "from sklearn.cluster import KMeans \n",
    "from sklearn import preprocessing\n",
    "\n",
    "df = pd.read_csv ('NSL-KDD.csv', header=None)\n",
    "df.convert_objects(convert_numeric=True)\n",
    "df.fillna(0, inplace=True)\n",
    "\n",
    "def textToNumbericConverter(df):\n",
    "    columns = df.columns.values\n",
    "\n",
    "    for col in columns:\n",
    "        tex_digit_vals = {}\n",
    "        def convertToInt(val):\n",
    "            return tex_digit_vals[val]\n",
    "        if df[col].dtype != np.int64 and df[col].dtype != np.float64:\n",
    "            column_contents = df[col].values.tolist()\n",
    "            unique_elements = set(column_contents)\n",
    "            x=0\n",
    "            for unique in unique_elements:\n",
    "                if unique not in tex_digit_vals:\n",
    "                    tex_digit_vals[unique] = x\n",
    "                    x +=1\n",
    "            df[col] = list(map(convertToInt, df[col]))\n",
    "    return df\n",
    "df = textToNumbericConverter(df)\n",
    "print(df.head())"
   ]
  },
  {
   "cell_type": "code",
   "execution_count": 4,
   "metadata": {},
   "outputs": [
    {
     "ename": "ImportError",
     "evalue": "cannot import name 'VariantDBSCAN'",
     "output_type": "error",
     "traceback": [
      "\u001b[1;31m---------------------------------------------------------------------------\u001b[0m",
      "\u001b[1;31mImportError\u001b[0m                               Traceback (most recent call last)",
      "\u001b[1;32m<ipython-input-4-6dd1b746fd74>\u001b[0m in \u001b[0;36m<module>\u001b[1;34m()\u001b[0m\n\u001b[1;32m----> 1\u001b[1;33m \u001b[1;32mfrom\u001b[0m \u001b[0msklearn\u001b[0m\u001b[1;33m.\u001b[0m\u001b[0mcluster\u001b[0m \u001b[1;32mimport\u001b[0m \u001b[0mVariantDBSCAN\u001b[0m\u001b[1;33m\u001b[0m\u001b[0m\n\u001b[0m",
      "\u001b[1;31mImportError\u001b[0m: cannot import name 'VariantDBSCAN'"
     ]
    }
   ],
   "source": [
    "from sklearn.cluster import VariantDBSCAN"
   ]
  },
  {
   "cell_type": "code",
   "execution_count": 5,
   "metadata": {},
   "outputs": [
    {
     "ename": "ModuleNotFoundError",
     "evalue": "No module named 'variantdbscan'",
     "output_type": "error",
     "traceback": [
      "\u001b[1;31m---------------------------------------------------------------------------\u001b[0m",
      "\u001b[1;31mModuleNotFoundError\u001b[0m                       Traceback (most recent call last)",
      "\u001b[1;32m<ipython-input-5-31841abf76bd>\u001b[0m in \u001b[0;36m<module>\u001b[1;34m()\u001b[0m\n\u001b[1;32m----> 1\u001b[1;33m \u001b[1;32mfrom\u001b[0m \u001b[0mvariantdbscan\u001b[0m \u001b[1;32mimport\u001b[0m \u001b[0mVariantDBSCAN\u001b[0m\u001b[1;33m\u001b[0m\u001b[0m\n\u001b[0m",
      "\u001b[1;31mModuleNotFoundError\u001b[0m: No module named 'variantdbscan'"
     ]
    }
   ],
   "source": [
    "from variantdbscan import VariantDBSCAN"
   ]
  },
  {
   "cell_type": "code",
   "execution_count": 6,
   "metadata": {},
   "outputs": [
    {
     "ename": "ModuleNotFoundError",
     "evalue": "No module named 'vdbscan'",
     "output_type": "error",
     "traceback": [
      "\u001b[1;31m---------------------------------------------------------------------------\u001b[0m",
      "\u001b[1;31mModuleNotFoundError\u001b[0m                       Traceback (most recent call last)",
      "\u001b[1;32m<ipython-input-6-fa39a3a5efd6>\u001b[0m in \u001b[0;36m<module>\u001b[1;34m()\u001b[0m\n\u001b[1;32m----> 1\u001b[1;33m \u001b[1;32mfrom\u001b[0m \u001b[0mvdbscan\u001b[0m \u001b[1;32mimport\u001b[0m \u001b[0mVariantDBSCAN\u001b[0m\u001b[1;33m\u001b[0m\u001b[0m\n\u001b[0m",
      "\u001b[1;31mModuleNotFoundError\u001b[0m: No module named 'vdbscan'"
     ]
    }
   ],
   "source": [
    "from vdbscan import VariantDBSCAN"
   ]
  },
  {
   "cell_type": "code",
   "execution_count": null,
   "metadata": {
    "collapsed": true
   },
   "outputs": [],
   "source": []
  }
 ],
 "metadata": {
  "kernelspec": {
   "display_name": "Python 3",
   "language": "python",
   "name": "python3"
  },
  "language_info": {
   "codemirror_mode": {
    "name": "ipython",
    "version": 3
   },
   "file_extension": ".py",
   "mimetype": "text/x-python",
   "name": "python",
   "nbconvert_exporter": "python",
   "pygments_lexer": "ipython3",
   "version": "3.6.4"
  }
 },
 "nbformat": 4,
 "nbformat_minor": 2
}
